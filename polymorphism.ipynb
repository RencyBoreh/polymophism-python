{
  "nbformat": 4,
  "nbformat_minor": 0,
  "metadata": {
    "colab": {
      "provenance": []
    },
    "kernelspec": {
      "name": "python3",
      "display_name": "Python 3"
    },
    "language_info": {
      "name": "python"
    }
  },
  "cells": [
    {
      "cell_type": "code",
      "execution_count": null,
      "metadata": {
        "colab": {
          "base_uri": "https://localhost:8080/"
        },
        "id": "02PNRJhy8pBN",
        "outputId": "e22e8afa-41b8-4ce8-f703-1f0505441b09"
      },
      "outputs": [
        {
          "output_type": "stream",
          "name": "stdout",
          "text": [
            "*****Honda*******\n",
            "red Honda is moving\n",
            "*****Rency*******\n",
            "Rency is walking\n",
            "*****Bird*******\n",
            "The Green Bird is flying\n",
            "red Honda is moving\n",
            "Rency is walking\n",
            "The Green Bird is flying\n"
          ]
        }
      ],
      "source": [
        "class cars:\n",
        "  def __init__(self,brand,color):\n",
        "    self.brand=brand\n",
        "    self.color=color\n",
        "  def __str__(self):\n",
        "    return f\"*****{self.brand}*******\"\n",
        "  def move(self):\n",
        "    print(f\"{self.color} {self.brand} is moving\")\n",
        "class human:\n",
        "  def __init__(self,name,age):\n",
        "    self.name=name\n",
        "    self.age=age\n",
        "  def __str__(self):\n",
        "    return f\"*****{self.name}*******\"\n",
        "  def move(self):\n",
        "    print(f\"{self.name} is walking\")\n",
        "class bird:\n",
        "  def __init__(self,name,color):\n",
        "    self.name=name\n",
        "    self.color=color\n",
        "  def __str__(self):\n",
        "    return f\"*****{self.name}*******\"\n",
        "  def move(self):\n",
        "    print(f\"The {self.color} {self.name} is flying\")\n",
        "car1=cars(\"Honda\",\"red\")\n",
        "print(car1)\n",
        "car1.move()\n",
        "human1=human(\"Rency\",21)\n",
        "print(human1)\n",
        "human1.move()\n",
        "bird1=bird(\"Bird\",(\"Green\"))\n",
        "print(bird1)\n",
        "bird1.move()\n",
        "for x in (car1,human1,bird1):\n",
        "  x.move()"
      ]
    },
    {
      "cell_type": "code",
      "source": [],
      "metadata": {
        "id": "DrKUBeKK-D8g"
      },
      "execution_count": null,
      "outputs": []
    }
  ]
}